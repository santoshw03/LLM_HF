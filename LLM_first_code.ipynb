{
 "cells": [
  {
   "cell_type": "code",
   "execution_count": 52,
   "id": "fdb3a8df-579c-4c69-a487-a11882cfc0db",
   "metadata": {},
   "outputs": [],
   "source": [
    "import secret_key\n",
    "from secret_key import hugging_face_key\n",
    "import os\n",
    "os.environ['HUGGINGFACEHUB_API_TOKEN'] = hugging_face_key"
   ]
  },
  {
   "cell_type": "code",
   "execution_count": 53,
   "id": "dc2a4385-cae8-4c53-a243-5bf2b09b0daf",
   "metadata": {},
   "outputs": [],
   "source": [
    "from langchain import HuggingFaceHub,LLMChain ,PromptTemplate"
   ]
  },
  {
   "cell_type": "code",
   "execution_count": 54,
   "id": "51bc6487-b358-49b5-8480-85d5f0516c69",
   "metadata": {},
   "outputs": [],
   "source": [
    "template = ''' Question : {question}\n",
    "Answer : Let's think step by step.'''"
   ]
  },
  {
   "cell_type": "code",
   "execution_count": 55,
   "id": "8ed19224-d8a2-45eb-bed8-b9d749d2be95",
   "metadata": {},
   "outputs": [],
   "source": [
    "prompt = PromptTemplate(template=template,input_variables=[\"question\"])"
   ]
  },
  {
   "cell_type": "code",
   "execution_count": 56,
   "id": "a9cc3e31-ec2b-4ab9-b990-6db3bbbd34dc",
   "metadata": {},
   "outputs": [],
   "source": [
    "llm_chain = LLMChain(prompt=prompt,\n",
    "                    llm = HuggingFaceHub(repo_id=\"google/flan-t5-large\",\n",
    "                                        model_kwargs={\"temperature\":0,\n",
    "                                                     \"max_length\":64}))"
   ]
  },
  {
   "cell_type": "code",
   "execution_count": 57,
   "id": "41fac34d-35a4-4d16-8981-df73111b4591",
   "metadata": {},
   "outputs": [
    {
     "name": "stdout",
     "output_type": "stream",
     "text": [
      "The capital of India is Delhi. Delhi is the capital of India. So the answer is Delhi.\n"
     ]
    }
   ],
   "source": [
    "question = \"What is the capital of India?\"\n",
    "\n",
    "print(llm_chain.run(question))"
   ]
  },
  {
   "cell_type": "code",
   "execution_count": null,
   "id": "a12985ac-f5b0-48b8-a6f3-56eca3a532ec",
   "metadata": {},
   "outputs": [],
   "source": []
  }
 ],
 "metadata": {
  "kernelspec": {
   "display_name": "Python 3 (ipykernel)",
   "language": "python",
   "name": "python3"
  },
  "language_info": {
   "codemirror_mode": {
    "name": "ipython",
    "version": 3
   },
   "file_extension": ".py",
   "mimetype": "text/x-python",
   "name": "python",
   "nbconvert_exporter": "python",
   "pygments_lexer": "ipython3",
   "version": "3.12.4"
  }
 },
 "nbformat": 4,
 "nbformat_minor": 5
}
